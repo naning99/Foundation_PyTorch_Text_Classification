{
  "nbformat": 4,
  "nbformat_minor": 0,
  "metadata": {
    "colab": {
      "provenance": []
    },
    "kernelspec": {
      "name": "python3",
      "display_name": "Python 3"
    },
    "language_info": {
      "name": "python"
    }
  },
  "cells": [
    {
      "cell_type": "code",
      "execution_count": 1,
      "metadata": {
        "colab": {
          "base_uri": "https://localhost:8080/"
        },
        "id": "oWwzY73SEpH8",
        "outputId": "fac1bb3e-ef3c-454d-88ca-69f49d32d0e9"
      },
      "outputs": [
        {
          "output_type": "stream",
          "name": "stdout",
          "text": [
            "\u001b[2K   \u001b[90m━━━━━━━━━━━━━━━━━━━━━━━━━━━━━━━━━━━━━━━━\u001b[0m \u001b[32m2.7/2.7 MB\u001b[0m \u001b[31m16.5 MB/s\u001b[0m eta \u001b[36m0:00:00\u001b[0m\n",
            "\u001b[2K   \u001b[90m━━━━━━━━━━━━━━━━━━━━━━━━━━━━━━━━━━━━━━━━\u001b[0m \u001b[32m7.5/7.5 MB\u001b[0m \u001b[31m51.3 MB/s\u001b[0m eta \u001b[36m0:00:00\u001b[0m\n",
            "\u001b[?25h"
          ]
        }
      ],
      "source": [
        "!pip install -Uqq portalocker>=2.0.0\n",
        "# !pip install -qq torchtext\n",
        "!pip install -qq torchdata\n",
        "!pip install -Uqq plotly\n",
        "!pip install -qq dash"
      ]
    },
    {
      "cell_type": "code",
      "source": [
        "!pip install torch==2.0.1 torchvision==0.15.2 torchaudio==2.0.2 --index-url https://download.pytorch.org/whl/cpu\n",
        "!pip install torchtext==0.15.2"
      ],
      "metadata": {
        "colab": {
          "base_uri": "https://localhost:8080/"
        },
        "id": "Rqf8WzDFHneg",
        "outputId": "32844615-01e0-4db7-9ee9-fdb0245553a8"
      },
      "execution_count": 2,
      "outputs": [
        {
          "output_type": "stream",
          "name": "stdout",
          "text": [
            "Looking in indexes: https://download.pytorch.org/whl/cpu\n",
            "Collecting torch==2.0.1\n",
            "  Downloading https://download.pytorch.org/whl/cpu/torch-2.0.1%2Bcpu-cp310-cp310-linux_x86_64.whl (195.4 MB)\n",
            "\u001b[2K     \u001b[90m━━━━━━━━━━━━━━━━━━━━━━━━━━━━━━━━━━━━━━━━\u001b[0m \u001b[32m195.4/195.4 MB\u001b[0m \u001b[31m5.6 MB/s\u001b[0m eta \u001b[36m0:00:00\u001b[0m\n",
            "\u001b[?25hCollecting torchvision==0.15.2\n",
            "  Downloading https://download.pytorch.org/whl/cpu/torchvision-0.15.2%2Bcpu-cp310-cp310-linux_x86_64.whl (1.5 MB)\n",
            "\u001b[2K     \u001b[90m━━━━━━━━━━━━━━━━━━━━━━━━━━━━━━━━━━━━━━━━\u001b[0m \u001b[32m1.5/1.5 MB\u001b[0m \u001b[31m51.1 MB/s\u001b[0m eta \u001b[36m0:00:00\u001b[0m\n",
            "\u001b[?25hCollecting torchaudio==2.0.2\n",
            "  Downloading https://download.pytorch.org/whl/cpu/torchaudio-2.0.2%2Bcpu-cp310-cp310-linux_x86_64.whl (4.1 MB)\n",
            "\u001b[2K     \u001b[90m━━━━━━━━━━━━━━━━━━━━━━━━━━━━━━━━━━━━━━━━\u001b[0m \u001b[32m4.1/4.1 MB\u001b[0m \u001b[31m3.3 MB/s\u001b[0m eta \u001b[36m0:00:00\u001b[0m\n",
            "\u001b[?25hRequirement already satisfied: filelock in /usr/local/lib/python3.10/dist-packages (from torch==2.0.1) (3.16.1)\n",
            "Requirement already satisfied: typing-extensions in /usr/local/lib/python3.10/dist-packages (from torch==2.0.1) (4.12.2)\n",
            "Requirement already satisfied: sympy in /usr/local/lib/python3.10/dist-packages (from torch==2.0.1) (1.13.3)\n",
            "Requirement already satisfied: networkx in /usr/local/lib/python3.10/dist-packages (from torch==2.0.1) (3.3)\n",
            "Requirement already satisfied: jinja2 in /usr/local/lib/python3.10/dist-packages (from torch==2.0.1) (3.1.4)\n",
            "Requirement already satisfied: numpy in /usr/local/lib/python3.10/dist-packages (from torchvision==0.15.2) (1.26.4)\n",
            "Requirement already satisfied: requests in /usr/local/lib/python3.10/dist-packages (from torchvision==0.15.2) (2.32.3)\n",
            "Requirement already satisfied: pillow!=8.3.*,>=5.3.0 in /usr/local/lib/python3.10/dist-packages (from torchvision==0.15.2) (10.4.0)\n",
            "Requirement already satisfied: MarkupSafe>=2.0 in /usr/local/lib/python3.10/dist-packages (from jinja2->torch==2.0.1) (2.1.5)\n",
            "Requirement already satisfied: charset-normalizer<4,>=2 in /usr/local/lib/python3.10/dist-packages (from requests->torchvision==0.15.2) (3.3.2)\n",
            "Requirement already satisfied: idna<4,>=2.5 in /usr/local/lib/python3.10/dist-packages (from requests->torchvision==0.15.2) (3.10)\n",
            "Requirement already satisfied: urllib3<3,>=1.21.1 in /usr/local/lib/python3.10/dist-packages (from requests->torchvision==0.15.2) (2.2.3)\n",
            "Requirement already satisfied: certifi>=2017.4.17 in /usr/local/lib/python3.10/dist-packages (from requests->torchvision==0.15.2) (2024.8.30)\n",
            "Requirement already satisfied: mpmath<1.4,>=1.1.0 in /usr/local/lib/python3.10/dist-packages (from sympy->torch==2.0.1) (1.3.0)\n",
            "Installing collected packages: torch, torchvision, torchaudio\n",
            "  Attempting uninstall: torch\n",
            "    Found existing installation: torch 2.4.1+cu121\n",
            "    Uninstalling torch-2.4.1+cu121:\n",
            "      Successfully uninstalled torch-2.4.1+cu121\n",
            "  Attempting uninstall: torchvision\n",
            "    Found existing installation: torchvision 0.19.1+cu121\n",
            "    Uninstalling torchvision-0.19.1+cu121:\n",
            "      Successfully uninstalled torchvision-0.19.1+cu121\n",
            "  Attempting uninstall: torchaudio\n",
            "    Found existing installation: torchaudio 2.4.1+cu121\n",
            "    Uninstalling torchaudio-2.4.1+cu121:\n",
            "      Successfully uninstalled torchaudio-2.4.1+cu121\n",
            "Successfully installed torch-2.0.1+cpu torchaudio-2.0.2+cpu torchvision-0.15.2+cpu\n",
            "Collecting torchtext==0.15.2\n",
            "  Downloading torchtext-0.15.2-cp310-cp310-manylinux1_x86_64.whl.metadata (7.4 kB)\n",
            "Requirement already satisfied: tqdm in /usr/local/lib/python3.10/dist-packages (from torchtext==0.15.2) (4.66.5)\n",
            "Requirement already satisfied: requests in /usr/local/lib/python3.10/dist-packages (from torchtext==0.15.2) (2.32.3)\n",
            "Requirement already satisfied: torch==2.0.1 in /usr/local/lib/python3.10/dist-packages (from torchtext==0.15.2) (2.0.1+cpu)\n",
            "Requirement already satisfied: numpy in /usr/local/lib/python3.10/dist-packages (from torchtext==0.15.2) (1.26.4)\n",
            "Collecting torchdata==0.6.1 (from torchtext==0.15.2)\n",
            "  Downloading torchdata-0.6.1-cp310-cp310-manylinux_2_17_x86_64.manylinux2014_x86_64.whl.metadata (13 kB)\n",
            "Requirement already satisfied: filelock in /usr/local/lib/python3.10/dist-packages (from torch==2.0.1->torchtext==0.15.2) (3.16.1)\n",
            "Requirement already satisfied: typing-extensions in /usr/local/lib/python3.10/dist-packages (from torch==2.0.1->torchtext==0.15.2) (4.12.2)\n",
            "Requirement already satisfied: sympy in /usr/local/lib/python3.10/dist-packages (from torch==2.0.1->torchtext==0.15.2) (1.13.3)\n",
            "Requirement already satisfied: networkx in /usr/local/lib/python3.10/dist-packages (from torch==2.0.1->torchtext==0.15.2) (3.3)\n",
            "Requirement already satisfied: jinja2 in /usr/local/lib/python3.10/dist-packages (from torch==2.0.1->torchtext==0.15.2) (3.1.4)\n",
            "Requirement already satisfied: urllib3>=1.25 in /usr/local/lib/python3.10/dist-packages (from torchdata==0.6.1->torchtext==0.15.2) (2.2.3)\n",
            "Requirement already satisfied: charset-normalizer<4,>=2 in /usr/local/lib/python3.10/dist-packages (from requests->torchtext==0.15.2) (3.3.2)\n",
            "Requirement already satisfied: idna<4,>=2.5 in /usr/local/lib/python3.10/dist-packages (from requests->torchtext==0.15.2) (3.10)\n",
            "Requirement already satisfied: certifi>=2017.4.17 in /usr/local/lib/python3.10/dist-packages (from requests->torchtext==0.15.2) (2024.8.30)\n",
            "Requirement already satisfied: MarkupSafe>=2.0 in /usr/local/lib/python3.10/dist-packages (from jinja2->torch==2.0.1->torchtext==0.15.2) (2.1.5)\n",
            "Requirement already satisfied: mpmath<1.4,>=1.1.0 in /usr/local/lib/python3.10/dist-packages (from sympy->torch==2.0.1->torchtext==0.15.2) (1.3.0)\n",
            "Downloading torchtext-0.15.2-cp310-cp310-manylinux1_x86_64.whl (2.0 MB)\n",
            "\u001b[2K   \u001b[90m━━━━━━━━━━━━━━━━━━━━━━━━━━━━━━━━━━━━━━━━\u001b[0m \u001b[32m2.0/2.0 MB\u001b[0m \u001b[31m20.8 MB/s\u001b[0m eta \u001b[36m0:00:00\u001b[0m\n",
            "\u001b[?25hDownloading torchdata-0.6.1-cp310-cp310-manylinux_2_17_x86_64.manylinux2014_x86_64.whl (4.6 MB)\n",
            "\u001b[2K   \u001b[90m━━━━━━━━━━━━━━━━━━━━━━━━━━━━━━━━━━━━━━━━\u001b[0m \u001b[32m4.6/4.6 MB\u001b[0m \u001b[31m76.3 MB/s\u001b[0m eta \u001b[36m0:00:00\u001b[0m\n",
            "\u001b[?25hInstalling collected packages: torchdata, torchtext\n",
            "  Attempting uninstall: torchdata\n",
            "    Found existing installation: torchdata 0.8.0\n",
            "    Uninstalling torchdata-0.8.0:\n",
            "      Successfully uninstalled torchdata-0.8.0\n",
            "Successfully installed torchdata-0.6.1 torchtext-0.15.2\n"
          ]
        }
      ]
    },
    {
      "cell_type": "code",
      "source": [
        "!pip install revtok"
      ],
      "metadata": {
        "colab": {
          "base_uri": "https://localhost:8080/"
        },
        "id": "QVc3eJtD2pnZ",
        "outputId": "9a3bf360-181f-4a1c-f3e0-11d59e7b872c"
      },
      "execution_count": 3,
      "outputs": [
        {
          "output_type": "stream",
          "name": "stdout",
          "text": [
            "Collecting revtok\n",
            "  Downloading revtok-0.0.3-py3-none-any.whl.metadata (657 bytes)\n",
            "Downloading revtok-0.0.3-py3-none-any.whl (4.3 kB)\n",
            "Installing collected packages: revtok\n",
            "Successfully installed revtok-0.0.3\n"
          ]
        }
      ]
    },
    {
      "cell_type": "code",
      "source": [
        "import torch\n",
        "import torchtext\n",
        "\n",
        "print(torch.__version__)\n",
        "print(torchtext.__version__)"
      ],
      "metadata": {
        "colab": {
          "base_uri": "https://localhost:8080/"
        },
        "id": "lVJlg7VoHZ-l",
        "outputId": "79d60a70-0661-412a-da7b-11e7b2199cdc"
      },
      "execution_count": 4,
      "outputs": [
        {
          "output_type": "stream",
          "name": "stdout",
          "text": [
            "2.0.1+cpu\n",
            "0.15.2+cpu\n"
          ]
        }
      ]
    },
    {
      "cell_type": "code",
      "source": [
        "from tqdm import tqdm\n",
        "import numpy as np\n",
        "import pandas as pd\n",
        "from itertools import accumulate\n",
        "import matplotlib.pyplot as plt\n",
        "from torchtext.data.utils import get_tokenizer\n",
        "\n",
        "import torch\n",
        "import torch.nn as nn\n",
        "\n",
        "from torch.utils.data import DataLoader\n",
        "import numpy as np\n",
        "from torchtext.datasets import AG_NEWS\n",
        "from IPython.display import Markdown as md\n",
        "from tqdm import tqdm\n",
        "\n",
        "from torchtext.vocab import build_vocab_from_iterator\n",
        "from torchtext.datasets import AG_NEWS\n",
        "from torch.utils.data.dataset import random_split\n",
        "from torchtext.data.functional import to_map_style_dataset\n",
        "from sklearn.manifold import TSNE\n",
        "import plotly.graph_objs as go\n",
        "\n",
        "from torchtext.data.utils import get_tokenizer\n",
        "\n",
        "def warn(*args, **kwargs):\n",
        "    pass\n",
        "import warnings\n",
        "warnings.warn = warn\n",
        "warnings.filterwarnings('ignore')"
      ],
      "metadata": {
        "id": "0vTTzhHyGCSt"
      },
      "execution_count": 5,
      "outputs": []
    },
    {
      "cell_type": "markdown",
      "source": [
        "# EDA"
      ],
      "metadata": {
        "id": "xFY3ZW_sqtI3"
      }
    },
    {
      "cell_type": "code",
      "source": [
        "#check content with iter & next\n",
        "train_iter = iter(AG_NEWS(split=\"train\"))\n",
        "\n",
        "y, text = next((train_iter))\n",
        "print(y, text)\n",
        "\n",
        "y_next, text_next = next((train_iter))\n",
        "print(y_next, text_next)\n",
        "\n",
        "print(len(list(train_iter))) #attention: this will exhausted the iteration"
      ],
      "metadata": {
        "colab": {
          "base_uri": "https://localhost:8080/"
        },
        "id": "rYFAk2CYGDgK",
        "outputId": "cc8e1a96-f08d-47ec-da74-91b45e5b08ed"
      },
      "execution_count": 31,
      "outputs": [
        {
          "output_type": "stream",
          "name": "stdout",
          "text": [
            "3 Wall St. Bears Claw Back Into the Black (Reuters) Reuters - Short-sellers, Wall Street's dwindling\\band of ultra-cynics, are seeing green again.\n",
            "3 Carlyle Looks Toward Commercial Aerospace (Reuters) Reuters - Private investment firm Carlyle Group,\\which has a reputation for making well-timed and occasionally\\controversial plays in the defense industry, has quietly placed\\its bets on another part of the market.\n",
            "119998\n"
          ]
        }
      ]
    },
    {
      "cell_type": "code",
      "source": [
        "#how many classes are there: https://paperswithcode.com/dataset/ag-news\n",
        "ag_news_label = {1: \"World\", 2: \"Sports\", 3: \"Business\", 4: \"Sci/Tec\"}\n",
        "print(ag_news_label[y])\n",
        "\n",
        "train_iter = iter(AG_NEWS(split=\"train\"))\n",
        "num_class = len(set([label for (label, text) in train_iter ]))\n",
        "print(num_class)"
      ],
      "metadata": {
        "colab": {
          "base_uri": "https://localhost:8080/"
        },
        "id": "UPtG-T4S5uil",
        "outputId": "3a862a87-bd8b-4bdf-890d-26bb4382ca3d"
      },
      "execution_count": 32,
      "outputs": [
        {
          "output_type": "stream",
          "name": "stdout",
          "text": [
            "Business\n",
            "4\n"
          ]
        }
      ]
    },
    {
      "cell_type": "markdown",
      "source": [
        "# Data Preprocessing"
      ],
      "metadata": {
        "id": "dIo2lgnHwcql"
      }
    },
    {
      "cell_type": "markdown",
      "source": [
        "## a. Tokenization & Numerization"
      ],
      "metadata": {
        "id": "e8NSuzLF-dA_"
      }
    },
    {
      "cell_type": "code",
      "source": [
        "#tokenization\n",
        "train_iter = iter(AG_NEWS(split=\"train\"))\n",
        "tokenizer = get_tokenizer(\"basic_english\") #this will just lowercase and split by space, can try other tokenizers like 'subword'\n",
        "\n",
        "def yield_tokens(data_iter):\n",
        "  for _, text in data_iter:\n",
        "    tokens = tokenizer(text)\n",
        "    yield tokens\n",
        "\n",
        "#numerization (built on training set)\n",
        "vocab = build_vocab_from_iterator(yield_tokens(train_iter), specials=[\"<unk>\"])\n",
        "vocab.set_default_index(vocab['<unk>'])"
      ],
      "metadata": {
        "id": "CY-hey_7taQS"
      },
      "execution_count": 33,
      "outputs": []
    },
    {
      "cell_type": "code",
      "source": [
        "#check numerization result:\n",
        "# print(vocab.get_stoi()) #token-index relations\n",
        "\n",
        "target_tp = [key for key, value in vocab.get_stoi().items() if value == 2]\n",
        "print(target_tp) #when index=2 which token it refers to\n",
        "\n",
        "print(vocab([\"commercial\", \"black\"])) #need to lowercase"
      ],
      "metadata": {
        "colab": {
          "base_uri": "https://localhost:8080/"
        },
        "id": "67xX457H6rt_",
        "outputId": "3a207d2b-b0ff-4d28-afb3-a9d6f9ad4ffa"
      },
      "execution_count": 36,
      "outputs": [
        {
          "output_type": "stream",
          "name": "stdout",
          "text": [
            "['the']\n",
            "[1310, 848]\n"
          ]
        }
      ]
    },
    {
      "cell_type": "markdown",
      "source": [
        "## b. Split Train-Validation-Test"
      ],
      "metadata": {
        "id": "c_nBBMAa-gJD"
      }
    },
    {
      "cell_type": "code",
      "source": [
        "train_iter, test_iter = AG_NEWS()\n",
        "\n",
        "#convert iterators to map-stype datasets, for later input into DataLoader\n",
        "train_dataset = to_map_style_dataset(train_iter)\n",
        "test_dataset = to_map_style_dataset(test_iter)\n",
        "print(train_dataset[0])\n",
        "\n",
        "#split validation set\n",
        "train_size = int(len(train_dataset) * 0.95)\n",
        "split_train_, split_valid_ = random_split(train_dataset, [train_size, len(train_dataset)-train_size])\n",
        "print(len(split_train_), len(split_valid_), len(test_dataset))"
      ],
      "metadata": {
        "colab": {
          "base_uri": "https://localhost:8080/"
        },
        "id": "qanQgO8d8hkZ",
        "outputId": "3d7338dd-b12c-434f-b920-23f5a0ae6e33"
      },
      "execution_count": 10,
      "outputs": [
        {
          "output_type": "stream",
          "name": "stdout",
          "text": [
            "(3, \"Wall St. Bears Claw Back Into the Black (Reuters) Reuters - Short-sellers, Wall Street's dwindling\\\\band of ultra-cynics, are seeing green again.\")\n",
            "114000 6000 7600\n"
          ]
        }
      ]
    },
    {
      "cell_type": "markdown",
      "source": [
        "## c. DataLoader"
      ],
      "metadata": {
        "id": "rvMIdhWgAhp8"
      }
    },
    {
      "cell_type": "code",
      "source": [
        "#pipeline for label & text\n",
        "def label_pipeline(x):\n",
        "  return int(x) - 1\n",
        "\n",
        "def text_pipeline(x):\n",
        "  return vocab(tokenizer(x))"
      ],
      "metadata": {
        "id": "GgyZCWTQ_TGj"
      },
      "execution_count": 11,
      "outputs": []
    },
    {
      "cell_type": "code",
      "source": [
        "#collate_batch: customize batch creation:\n",
        "#(1) tokenization & numerization & convert into PyTorch tensors & move to device\n",
        "#(2) lable_list, text_list, offsets_list\n",
        "\n",
        "device = torch.device(\"cuda\" if torch.cuda.is_available() else \"cpu\")\n",
        "print(device)\n",
        "\n",
        "def collate_batch(batch):\n",
        "  label_list, text_list, offsets = [], [], [0]\n",
        "  for _label, _text in batch:\n",
        "    label_list.append(label_pipeline(_label))\n",
        "    processed_text = torch.tensor(text_pipeline(_text), dtype = torch.int64)\n",
        "    text_list.append(processed_text)\n",
        "    offsets.append(processed_text.size(0)) #append each text sequence's length first, e.g. [4, 5, 3]\n",
        "\n",
        "  label_list = torch.tensor(label_list, dtype = torch.int64)\n",
        "  offsets = torch.tensor(offsets[:-1]).cumsum(dim=0) #offset: starting position of each text sequence in the combined tensor e.g.[0, 4, 9, 12] --- remove lst one from [:-1] then would be [0, 4, 9]\n",
        "  text_list = torch.cat(text_list)\n",
        "  return label_list.to(device), text_list.to(device), offsets.to(device)"
      ],
      "metadata": {
        "colab": {
          "base_uri": "https://localhost:8080/"
        },
        "id": "GWC1YSHvDlqW",
        "outputId": "dc0d37c8-2015-42b2-8c18-fb8156dfff1c"
      },
      "execution_count": 12,
      "outputs": [
        {
          "output_type": "stream",
          "name": "stdout",
          "text": [
            "cpu\n"
          ]
        }
      ]
    },
    {
      "cell_type": "code",
      "source": [
        "#dataloader\n",
        "#parameters: dataset, batch_size, shuffle or not, collate_fn\n",
        "BATCH_SIZE = 64\n",
        "train_dataloader = DataLoader(\n",
        "    split_train_, batch_size = BATCH_SIZE, shuffle=True, collate_fn=collate_batch\n",
        ")\n",
        "valid_dataloader = DataLoader(\n",
        "    split_valid_, batch_size = BATCH_SIZE, shuffle=True, collate_fn=collate_batch\n",
        ")\n",
        "test_dataloader = DataLoader(\n",
        "    test_dataset, batch_size = BATCH_SIZE, shuffle=True, collate_fn=collate_batch\n",
        ")"
      ],
      "metadata": {
        "id": "HXIYJYXhDl-b"
      },
      "execution_count": 13,
      "outputs": []
    },
    {
      "cell_type": "code",
      "source": [
        "#check on first batch\n",
        "label, text, offsets = next(iter(train_dataloader))\n",
        "label, text, offsets"
      ],
      "metadata": {
        "colab": {
          "base_uri": "https://localhost:8080/"
        },
        "id": "NAP_YrVdIvYl",
        "outputId": "241b9ffb-e1f8-4a7a-f7ea-1d12d3ab47e0"
      },
      "execution_count": 14,
      "outputs": [
        {
          "output_type": "execute_result",
          "data": {
            "text/plain": [
              "(tensor([3, 1, 3, 3, 3, 0, 1, 1, 0, 2, 1, 0, 2, 2, 2, 1, 1, 3, 2, 1, 1, 1, 2, 0,\n",
              "         0, 0, 0, 0, 3, 3, 3, 0, 0, 3, 1, 1, 3, 0, 3, 2, 1, 2, 1, 2, 2, 0, 0, 0,\n",
              "         2, 0, 0, 0, 0, 2, 1, 0, 1, 0, 3, 0, 0, 0, 2, 2]),\n",
              " tensor([ 180,  493, 4926,  ...,  838,  233,    1]),\n",
              " tensor([   0,   45,  106,  149,  187,  257,  293,  352,  389,  440,  487,  531,\n",
              "          584,  630,  674,  710,  745,  775,  810,  864,  899,  955, 1002, 1061,\n",
              "         1106, 1140, 1174, 1223, 1276, 1319, 1361, 1402, 1448, 1483, 1549, 1597,\n",
              "         1632, 1666, 1700, 1738, 1769, 1826, 1869, 1906, 1945, 2009, 2033, 2070,\n",
              "         2129, 2175, 2215, 2237, 2275, 2309, 2346, 2391, 2434, 2465, 2506, 2543,\n",
              "         2593, 2629, 2670, 2710]))"
            ]
          },
          "metadata": {},
          "execution_count": 14
        }
      ]
    },
    {
      "cell_type": "code",
      "source": [
        "print(len(label), len(text), len(offsets))"
      ],
      "metadata": {
        "colab": {
          "base_uri": "https://localhost:8080/"
        },
        "id": "b7Fz5bAEJNwz",
        "outputId": "4c8f9f29-8ef0-4268-fd5a-5307e0325e37"
      },
      "execution_count": 15,
      "outputs": [
        {
          "output_type": "stream",
          "name": "stdout",
          "text": [
            "64 2743 64\n"
          ]
        }
      ]
    },
    {
      "cell_type": "markdown",
      "source": [
        "# Neural Network"
      ],
      "metadata": {
        "id": "1Nbu4O_QJ-SZ"
      }
    },
    {
      "cell_type": "markdown",
      "source": [
        "## a. No Training Model"
      ],
      "metadata": {
        "id": "ek_jXNsINIHc"
      }
    },
    {
      "cell_type": "markdown",
      "source": [
        "### Define Model"
      ],
      "metadata": {
        "id": "XL9iedV0NmWT"
      }
    },
    {
      "cell_type": "code",
      "source": [
        "from torch import nn\n",
        "\n",
        "class TextClassificationModel(nn.Module):\n",
        "  def __init__(self, vocab_size, embed_dim, num_class):\n",
        "    super(TextClassificationModel, self).__init__()\n",
        "    self.embedding = nn.EmbeddingBag(vocab_size, embed_dim, sparse=False) #embedding layer\n",
        "    self.fc = nn.Linear(embed_dim, num_class) #fully connect layer\n",
        "    self.init_weights() #initialize weights\n",
        "\n",
        "  def init_weights(self):\n",
        "    initrange = 0.5\n",
        "    self.embedding.weight.data.uniform_(-initrange, initrange)\n",
        "    self.fc.weight.data.uniform_(-initrange, initrange)\n",
        "    self.fc.bias.data.zero_()\n",
        "\n",
        "  def forward(self, text, offsets):\n",
        "    embedded = self.embedding(text, offsets)\n",
        "    return self.fc(embedded)\n"
      ],
      "metadata": {
        "id": "9dkWOmGmJl7c"
      },
      "execution_count": 16,
      "outputs": []
    },
    {
      "cell_type": "code",
      "source": [
        "vocab_size = len(vocab)\n",
        "emsize = 64\n",
        "num_class = 4\n",
        "print(vocab_size)\n",
        "\n",
        "model = TextClassificationModel(vocab_size, emsize, num_class)\n",
        "model"
      ],
      "metadata": {
        "colab": {
          "base_uri": "https://localhost:8080/"
        },
        "id": "cpuaPndLMPBH",
        "outputId": "a127ba54-eacc-4f1c-952f-30c82226ed65"
      },
      "execution_count": 17,
      "outputs": [
        {
          "output_type": "stream",
          "name": "stdout",
          "text": [
            "95811\n"
          ]
        },
        {
          "output_type": "execute_result",
          "data": {
            "text/plain": [
              "TextClassificationModel(\n",
              "  (embedding): EmbeddingBag(95811, 64, mode='mean')\n",
              "  (fc): Linear(in_features=64, out_features=4, bias=True)\n",
              ")"
            ]
          },
          "metadata": {},
          "execution_count": 17
        }
      ]
    },
    {
      "cell_type": "markdown",
      "source": [
        "### Predict"
      ],
      "metadata": {
        "id": "fUTwBc3SOIgr"
      }
    },
    {
      "cell_type": "code",
      "source": [
        "predicted_label = model(text, offsets) #model trained with a mini-batch size of 64 samples\n",
        "print(predicted_label.shape) #output shape: ([batch_size, num_classes])"
      ],
      "metadata": {
        "colab": {
          "base_uri": "https://localhost:8080/"
        },
        "id": "MQdIVVx9MjdN",
        "outputId": "65b43832-bcbb-4862-cc5c-a7e6e5728523"
      },
      "execution_count": 18,
      "outputs": [
        {
          "output_type": "stream",
          "name": "stdout",
          "text": [
            "torch.Size([64, 4])\n"
          ]
        }
      ]
    },
    {
      "cell_type": "code",
      "source": [
        "def predict(text, text_pipeline):\n",
        "  with torch.no_grad():\n",
        "    text = torch.tensor(text_pipeline(text))\n",
        "    output = model(text, torch.tensor([0]))\n",
        "    # print(output.argmax(1).item())\n",
        "    return ag_news_label[output.argmax(1).item() + 1]\n",
        "\n",
        "predict('I like sports', text_pipeline) #accuracy so bad,, cuz we didn't train the model"
      ],
      "metadata": {
        "colab": {
          "base_uri": "https://localhost:8080/",
          "height": 35
        },
        "id": "eb1lRRihNEmf",
        "outputId": "6ad4d68c-c9c2-4335-851b-5b3f0f6a9b4b"
      },
      "execution_count": 19,
      "outputs": [
        {
          "output_type": "execute_result",
          "data": {
            "text/plain": [
              "'Sports'"
            ],
            "application/vnd.google.colaboratory.intrinsic+json": {
              "type": "string"
            }
          },
          "metadata": {},
          "execution_count": 19
        }
      ]
    },
    {
      "cell_type": "markdown",
      "source": [
        "### Evaluate"
      ],
      "metadata": {
        "id": "HkVbIyQ32upu"
      }
    },
    {
      "cell_type": "code",
      "source": [
        "def evaluate(dataloader):\n",
        "  model.eval()\n",
        "  total_acc, total_count = 0, 0\n",
        "\n",
        "  with torch.no_grad():\n",
        "    for idx, (label, text, offsets) in enumerate(dataloader):\n",
        "      predicted_label = model(text, offsets)\n",
        "\n",
        "      total_acc += (predicted_label.argmax(1) == label).sum().item() #total true count for that batch (tensor with a single element) --- .item() convert tensor to scalar\n",
        "      total_count += label.size(0)\n",
        "    return total_acc / total_count"
      ],
      "metadata": {
        "id": "-vGvTVEDO730"
      },
      "execution_count": 20,
      "outputs": []
    },
    {
      "cell_type": "code",
      "source": [
        "evaluate(test_dataloader)"
      ],
      "metadata": {
        "colab": {
          "base_uri": "https://localhost:8080/"
        },
        "id": "-pW4CaNv77PN",
        "outputId": "bf5c3fe6-7341-4ba3-e5c2-1d1e0a8af3fd"
      },
      "execution_count": 21,
      "outputs": [
        {
          "output_type": "execute_result",
          "data": {
            "text/plain": [
              "0.23289473684210527"
            ]
          },
          "metadata": {},
          "execution_count": 21
        }
      ]
    },
    {
      "cell_type": "markdown",
      "source": [
        "## b. Train Model"
      ],
      "metadata": {
        "id": "A8U_jJG8C_70"
      }
    },
    {
      "cell_type": "markdown",
      "source": [
        "### Key Components"
      ],
      "metadata": {
        "id": "_oBUacyiDCOc"
      }
    },
    {
      "cell_type": "code",
      "source": [
        "#learning rate, loss criterion, optimizer, learning rate scheduler\n",
        "\n",
        "LR = 0.1\n",
        "criterion = torch.nn.CrossEntropyLoss()\n",
        "optimizer = torch.optim.SGD(model.parameters(), lr = LR)\n",
        "scheduler = torch.optim.lr_scheduler.StepLR(optimizer, 1.0, gamma=0.1)\n",
        "# scheduler: adjusts LR during training, reducing it by a factor(gamma) of 0.1 after every epoch\n",
        "# improve convergence and fine-tune model's performance"
      ],
      "metadata": {
        "id": "TAfwPa1T79xc"
      },
      "execution_count": 22,
      "outputs": []
    },
    {
      "cell_type": "code",
      "source": [
        "EPOCHS = 10\n",
        "cum_loss_list = []\n",
        "acc_epoch = []\n",
        "acc_old = 0\n",
        "\n",
        "for epoch in tqdm(range(1, EPOCHS+1)):\n",
        "  model.train() #set the training mode for each epoch\n",
        "  cum_loss = 0\n",
        "\n",
        "  for idx, (label, text, offsets) in enumerate(train_dataloader):\n",
        "    optimizer.zero_grad() #reset the gradients of model parameter to 0 (or will accumulate)\n",
        "    predicted_label = model(text, offsets) #1. predict\n",
        "    loss = criterion(predicted_label, label) #2. calculate loss\n",
        "    loss.backward() #3. compute gradients for each parameter based on loss\n",
        "    torch.nn.utils.clip_grad_norm_(model.parameters(), 0.1) #prevent exploding gradients, by clipping them to a maximum norm of 0.1\n",
        "    optimizer.step() #4. update the parameters based on computed gradients\n",
        "    cum_loss += loss.item()\n",
        "\n",
        "    #overall steps: predict, calculate loss, compute gradient, update parameters\n",
        "    #loss.backward(): backpropagation, chain rules of calculus. update weight\n",
        "\n",
        "  cum_loss_list.append(cum_loss)\n",
        "  accu_val = evaluate(valid_dataloader)\n",
        "  acc_epoch.append(accu_val)\n",
        "\n",
        "  if accu_val > acc_old:\n",
        "    acc_old = accu_val\n",
        "    torch.save(model.state_dict(), 'my_model.pth')\n"
      ],
      "metadata": {
        "colab": {
          "base_uri": "https://localhost:8080/"
        },
        "id": "ifjHDBBzD4ny",
        "outputId": "5ee7a0e3-a1d2-4839-8e9c-eb603e654e31"
      },
      "execution_count": 23,
      "outputs": [
        {
          "output_type": "stream",
          "name": "stderr",
          "text": [
            "100%|██████████| 10/10 [06:02<00:00, 36.30s/it]\n"
          ]
        }
      ]
    },
    {
      "cell_type": "markdown",
      "source": [
        "### Plot Loss & Acc"
      ],
      "metadata": {
        "id": "N4nLGrqOtF_w"
      }
    },
    {
      "cell_type": "code",
      "source": [
        "def plot(COST, ACC):\n",
        "  fig, ax1 = plt.subplots()\n",
        "  color = 'tab:red'\n",
        "  ax1.plot(COST, color = color)\n",
        "  ax1.set_xlabel('epoch', color = color)\n",
        "  ax1.set_ylabel('total loss', color = color)\n",
        "  ax1.tick_params(axis='y', color = color)\n",
        "\n",
        "  ax2 = ax1.twinx()\n",
        "  color = 'tab:blue'\n",
        "  ax2.set_ylabel('accuracy', color = color)\n",
        "  ax2.plot(ACC, color = color)\n",
        "  ax2.tick_params(axis='y', color = color)\n",
        "  fig.tight_layout()\n",
        "\n",
        "  plt.show()"
      ],
      "metadata": {
        "id": "DSzSql8Us5vn"
      },
      "execution_count": 24,
      "outputs": []
    },
    {
      "cell_type": "code",
      "source": [
        "plot(cum_loss_list, acc_epoch)"
      ],
      "metadata": {
        "colab": {
          "base_uri": "https://localhost:8080/",
          "height": 487
        },
        "id": "CzgzRlkeuCQE",
        "outputId": "d1435123-a2dc-4c34-9dae-0be29f5a4bd9"
      },
      "execution_count": 25,
      "outputs": [
        {
          "output_type": "display_data",
          "data": {
            "text/plain": [
              "<Figure size 640x480 with 2 Axes>"
            ],
            "image/png": "[encoded data removed]"
          },
          "metadata": {}
        }
      ]
    },
    {
      "cell_type": "code",
      "source": [
        "evaluate(test_dataloader)"
      ],
      "metadata": {
        "colab": {
          "base_uri": "https://localhost:8080/"
        },
        "id": "X3v8avmquEO0",
        "outputId": "eadef06c-6080-4fe3-ffe3-61076607d2fa"
      },
      "execution_count": 26,
      "outputs": [
        {
          "output_type": "execute_result",
          "data": {
            "text/plain": [
              "0.8185526315789474"
            ]
          },
          "metadata": {},
          "execution_count": 26
        }
      ]
    },
    {
      "cell_type": "markdown",
      "source": [
        "### Test"
      ],
      "metadata": {
        "id": "HkVTWZNQuezw"
      }
    },
    {
      "cell_type": "code",
      "source": [
        "article = \"\"\"\n",
        "China pledged on Saturday to \"significantly increase\" debt to revive its sputtering economy, but left investors guessing on the overall size of the stimulus package, a vital detail to gauge the longevity of its recent stock market rally.\n",
        "\"\"\""
      ],
      "metadata": {
        "id": "ZLd-CJAIuI3g"
      },
      "execution_count": 27,
      "outputs": []
    },
    {
      "cell_type": "code",
      "source": [
        "predict(article, text_pipeline)"
      ],
      "metadata": {
        "colab": {
          "base_uri": "https://localhost:8080/",
          "height": 35
        },
        "id": "stx1BC2PvBga",
        "outputId": "df5dc256-5586-438a-e617-d9d98a1608e2"
      },
      "execution_count": 28,
      "outputs": [
        {
          "output_type": "execute_result",
          "data": {
            "text/plain": [
              "'Business'"
            ],
            "application/vnd.google.colaboratory.intrinsic+json": {
              "type": "string"
            }
          },
          "metadata": {},
          "execution_count": 28
        }
      ]
    },
    {
      "cell_type": "code",
      "source": [
        "#load pre-trained model\n",
        "model.load_state_dict(torch.load('my_model.pth'))\n",
        "model.eval()\n",
        "\n",
        "#test on a list of articles\n",
        "new_articles = [\n",
        "    \"International talks have made significant headway with the signing of a climate accord that commits countries to reduce emissions by 40% over the next two decades. World leaders expressed optimism at the conclusion of the summit.\",\n",
        "    \"In a stunning upset, the underdog team won the national title, beating the favorites in a match that featured an incredible comeback and a last-minute goal that sealed their victory in front of a record crowd.\",\n",
        "    \"Market analysts are optimistic as the tech startup's stock prices soared after the announcement of their latest product, which promises to revolutionize how we interact with smart devices.\",\n",
        "    \"A recent study published in a leading scientific journal suggests that a new drug has shown promise in the treatment of Alzheimer's disease, outperforming current leading medications in early clinical trials.\",\n",
        "    \"Diplomatic relations have taken a positive turn with the recent peace talks that aim to end decades of conflict. The ceasefire agreement has been welcomed by the international community.\",\n",
        "    \"Economic indicators show a sharp rebound in manufacturing, with the automobile industry leading the charge. Analysts predict this surge will result in significant job creation over the next year.\",\n",
        "    \"Researchers at the university's astrophysics department have discovered a potentially habitable exoplanet. The planet, which lies in a nearby star system, has conditions that could support liquid water and, possibly, life.\",\n",
        "    \"The sports world is in shock as a legendary player announces their retirement. Over an illustrious 20-year career, the athlete has amassed numerous records and is regarded as one of the greatest to ever play the game.\",\n",
        "    \"A multinational corporation has announced a major investment in renewable energy. The initiative includes the construction of new wind farms and solar panels that will power hundreds of thousands of homes.\",\n",
        "    \"Climate scientists warn that the melting of the polar ice caps has been accelerating at an alarming rate, raising sea levels and threatening coastal cities worldwide with increased flooding risks.\"\n",
        "]\n",
        "\n",
        "for i, article in enumerate(new_articles, start=1):\n",
        "  prediction = predict(article, text_pipeline)\n",
        "  print(f\"Article {i}: {prediction}\\n\")\n"
      ],
      "metadata": {
        "colab": {
          "base_uri": "https://localhost:8080/"
        },
        "id": "6rAftONCvMNT",
        "outputId": "a89b6d7f-9b95-494a-86a3-bcc262500f3f"
      },
      "execution_count": 30,
      "outputs": [
        {
          "output_type": "stream",
          "name": "stdout",
          "text": [
            "Article 1: World\n",
            "\n",
            "Article 2: Sports\n",
            "\n",
            "Article 3: Business\n",
            "\n",
            "Article 4: Sci/Tec\n",
            "\n",
            "Article 5: World\n",
            "\n",
            "Article 6: Business\n",
            "\n",
            "Article 7: Sci/Tec\n",
            "\n",
            "Article 8: Sports\n",
            "\n",
            "Article 9: Sci/Tec\n",
            "\n",
            "Article 10: Sci/Tec\n",
            "\n"
          ]
        }
      ]
    },
    {
      "cell_type": "code",
      "source": [],
      "metadata": {
        "id": "JVR85Eiyv_Ru"
      },
      "execution_count": null,
      "outputs": []
    }
  ]
}